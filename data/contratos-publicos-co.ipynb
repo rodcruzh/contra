{
 "cells": [
  {
   "cell_type": "markdown",
   "metadata": {},
   "source": [
    "# Contratos Públicos Colombia\n",
    "\n",
    "### Exploración de datos\n",
    "\n",
    "`contract_data_2016_01_26_clean.json`\n",
    "\n",
    "Columnas a explorar\n",
    "\n",
    "* Fecha de inicio de ejecución del contrato\n",
    "* Plazo de ejecución del contrato\n",
    "* Fecha de terminación del contrato\n",
    "* Fecha terminación anormal después de convocado\n",
    "* Estado del proceso\n",
    "* Cuantía a contratar\n",
    "* Cuantía definitiva del contrato\n",
    "* Liquidación del contrato\n",
    "* Fecha de liquidación del contrato\n",
    "* Adición al contrato\n",
    "* Estado del contrato\n",
    "* Tipo de terminación del contrato"
   ]
  },
  {
   "cell_type": "code",
   "execution_count": 1,
   "metadata": {},
   "outputs": [
    {
     "name": "stdout",
     "output_type": "stream",
     "text": [
      "  Adición al contrato Adjudicación  \\\n",
      "0                 NaN          NaN   \n",
      "1                 NaN          NaN   \n",
      "2          2015-09-14   2014-06-09   \n",
      "3                 NaN          NaN   \n",
      "4                 NaN          NaN   \n",
      "\n",
      "  Calificación definitiva de los proponentes - Orden de elegibilidad  \\\n",
      "0                                                NaN                   \n",
      "1                                                NaN                   \n",
      "2                                             [1000]                   \n",
      "3                                                NaN                   \n",
      "4                                                NaN                   \n",
      "\n",
      "      Causal de Otras Formas de Contratación Directa Celebración de Contrato  \\\n",
      "0                                                NaN                     NaN   \n",
      "1                                                NaN                     NaN   \n",
      "2                                                NaN              2014-06-27   \n",
      "3  Prestación de Servicios Profesionales y de Apo...                     NaN   \n",
      "4                                                NaN              2012-09-20   \n",
      "\n",
      "  Clase Convocatoria                Correo Electrónico  \\\n",
      "0   NaN          NaN     MARIA.PALACIO@MEDELLIN.GOV.CO   \n",
      "1   NaN          NaN  contratacion_ricaurte@hotmail.es   \n",
      "2   NaN   2014-05-12         contratacion@sucre.gov.co   \n",
      "3   NaN          NaN    hospitalmanzanares@hotmail.com   \n",
      "4   NaN          NaN            leidys@ejercito.mil.co   \n",
      "\n",
      "  Correo Electrónico para el Envío de Expresiones Creación de Proceso  \\\n",
      "0                                             NaN          2010-11-03   \n",
      "1                                             NaN          2010-06-12   \n",
      "2                                             NaN          2014-04-24   \n",
      "3                                             NaN          2014-05-10   \n",
      "4                                             NaN          2012-09-11   \n",
      "\n",
      "                         ...                          \\\n",
      "0                        ...                           \n",
      "1                        ...                           \n",
      "2                        ...                           \n",
      "3                        ...                           \n",
      "4                        ...                           \n",
      "\n",
      "                                            Segmento  \\\n",
      "0  [80] Servicios de Gestion, Servicios Profesion...   \n",
      "1             [91] Servicios Personales y Domésticos   \n",
      "2  [72] Servicios de Edificación, Construcción de...   \n",
      "3                            [85] Servicios de Salud   \n",
      "4  [72] Servicios de Edificación, Construcción de...   \n",
      "\n",
      "   Terminación Anormal despues de Convocado  \\\n",
      "0                                       NaN   \n",
      "1                                       NaN   \n",
      "2                                       NaN   \n",
      "3                                       NaN   \n",
      "4                                       NaN   \n",
      "\n",
      "  Terminación sin liquidar de Contrato         Tipo de Contrato  \\\n",
      "0                                  NaN  Prestación de Servicios   \n",
      "1                                  NaN  Prestación de Servicios   \n",
      "2                                  NaN                     Obra   \n",
      "3                                  NaN  Prestación de Servicios   \n",
      "4                                  NaN               Suministro   \n",
      "\n",
      "                           Tipo de Proceso Tipo de Terminación del Contrato  \\\n",
      "0              Contratación Mínima Cuantía                           Normal   \n",
      "1              Contratación Mínima Cuantía                           Normal   \n",
      "2                       Licitación Pública                              NaN   \n",
      "3  Contratación Directa (Ley 1150 de 2007)                           Normal   \n",
      "4              Contratación Mínima Cuantía                              NaN   \n",
      "\n",
      "                    Ubicación de la Sala de Consulta  \\\n",
      "0                                                NaN   \n",
      "1                                                NaN   \n",
      "2  Calle 25 N° 25B - 35 Avenida Las Peñitas Edifi...   \n",
      "3                                                NaN   \n",
      "4                                                NaN   \n",
      "\n",
      "  Unidad/Subunidad ejecutora (SIIF) Valor Contrato Interventoría Externa  \\\n",
      "0                               NaN                                  NaN   \n",
      "1                               NaN                                  NaN   \n",
      "2                               NaN                                  NaN   \n",
      "3                               NaN                                  NaN   \n",
      "4                               NaN                                  NaN   \n",
      "\n",
      "                                           documents  \n",
      "0  [{'url': '/historico/E/archivospuc1/2010/ALUMA...  \n",
      "1  [{'url': '/historico/E/archivospuc1/2010/ALUMA...  \n",
      "2  [{'url': '/dic2015/2015/DA/270000001/14-1-1168...  \n",
      "3  [{'url': '/cloud/cloud2/2014/ALUMA/21743312/14...  \n",
      "4  [{'url': '/historico/G/2012/OSMC/115001006/12-...  \n",
      "\n",
      "[5 rows x 78 columns]\n"
     ]
    }
   ],
   "source": [
    "import pandas as pd\n",
    "import numpy as np\n",
    "import ijson as ij\n",
    "import matplotlib.pyplot as plt\n",
    "from datetime import timedelta, datetime\n",
    "\n",
    "ct_data = pd.read_json('contract_data_2016_01_26_clean.json', lines=True)\n",
    "print(ct_data.head())"
   ]
  },
  {
   "cell_type": "code",
   "execution_count": 2,
   "metadata": {},
   "outputs": [
    {
     "data": {
      "text/plain": [
       "(1000, 78)"
      ]
     },
     "execution_count": 2,
     "metadata": {},
     "output_type": "execute_result"
    }
   ],
   "source": [
    "ct_data.shape"
   ]
  },
  {
   "cell_type": "code",
   "execution_count": 3,
   "metadata": {},
   "outputs": [
    {
     "data": {
      "text/plain": [
       "Index(['Adición al contrato', 'Adjudicación',\n",
       "       'Calificación definitiva de los proponentes - Orden de elegibilidad',\n",
       "       'Causal de Otras Formas de Contratación Directa',\n",
       "       'Celebración de Contrato', 'Clase', 'Convocatoria',\n",
       "       'Correo Electrónico', 'Correo Electrónico para el Envío de Expresiones',\n",
       "       'Creación de Proceso', 'Cuantía Definitiva del Contrato',\n",
       "       'Cuantía a Contratar', 'Departamento y Municipio de Ejecución',\n",
       "       'Departamento y Municipio de Entrega Documentos',\n",
       "       'Departamento y Municipio de Obtención de Documentos',\n",
       "       'Destinación del Gasto', 'Detalle y Cantidad del Objeto a Contratar',\n",
       "       'Dirección Fisica de Entrega de Expresiones',\n",
       "       'Dirección Física de Entrega de Documentos del Proceso',\n",
       "       'Dirección Física de Obtención de Documentos del Proceso',\n",
       "       'Dirección Física del Contratista', 'Estado del Contrato',\n",
       "       'Estado del Proceso', 'Familia',\n",
       "       'Fecha Inicio de entrega de Expresiones',\n",
       "       'Fecha Limite de entrega de Expresiones',\n",
       "       'Fecha Límite de Entrega de Documentos Habilitantes',\n",
       "       'Fecha Terminación Anormal Después de Convocado',\n",
       "       'Fecha de Firma del Contrato',\n",
       "       'Fecha de Inicio de Ejecución del Contrato',\n",
       "       'Fecha de Inicio de la subasta', 'Fecha de Liquidación del Contrato',\n",
       "       'Fecha de Publicación de la Lista Corta',\n",
       "       'Fecha de Terminación del Contrato',\n",
       "       'Fecha en que se Descartó el Proceso',\n",
       "       'Fecha y Hora de Apertura del Proceso',\n",
       "       'Fecha y Hora de Audiencia Aclaración',\n",
       "       'Fecha y Hora de Audiencia Aclaración de Pliegos',\n",
       "       'Fecha y Hora de Audiencia Adjudicación',\n",
       "       'Fecha y Hora de Audiencia de Sorteo de Proponentes',\n",
       "       'Fecha y Hora de Cierre del Proceso', 'Fecha y Hora de Visita de Sitio',\n",
       "       'Fecha y Hora de Visita del Lugar Obra', 'Grupo',\n",
       "       'Identificación del Contratista',\n",
       "       'Identificación del Representante Legal', 'Liquidación de Contrato',\n",
       "       'Lista Corta', 'Lugar Físico o Virtual de la Subasta',\n",
       "       'Lugar de Audiencia de Aclaración',\n",
       "       'Lugar de Audiencia de Aclaración de Pliegos',\n",
       "       'Lugar de Audiencia de Adjudicación',\n",
       "       'Lugar de Audiencia de Sorteo de Proponentes',\n",
       "       'Modalidad de la Subasta',\n",
       "       'Motivo de Terminación Anormal Después de Celebrado',\n",
       "       'Motivo de Terminación Anormal Después de Convocado',\n",
       "       'Nombre del Representante Legal del Contratista',\n",
       "       'Nombre o Razón Social del Contratista',\n",
       "       'Nombre ó Razón Social del proponente seleccionado',\n",
       "       'Numero compromiso presupuestal', 'Objeto del Contrato',\n",
       "       'Origen de los recursos',\n",
       "       'País y Departamento/Provincia de ubicación del Contratista',\n",
       "       'Plazo de Ejecución del Contrato', 'Porcentaje de Anticipo',\n",
       "       'Proceso Liquidado', 'Proceso descartado', 'Régimen de Contratación',\n",
       "       'Segmento', 'Terminación Anormal despues de Convocado',\n",
       "       'Terminación sin liquidar de Contrato', 'Tipo de Contrato',\n",
       "       'Tipo de Proceso', 'Tipo de Terminación del Contrato',\n",
       "       'Ubicación de la Sala de Consulta', 'Unidad/Subunidad ejecutora (SIIF)',\n",
       "       'Valor Contrato Interventoría Externa', 'documents'],\n",
       "      dtype='object')"
      ]
     },
     "execution_count": 3,
     "metadata": {},
     "output_type": "execute_result"
    }
   ],
   "source": [
    "ct_data.columns"
   ]
  },
  {
   "cell_type": "code",
   "execution_count": 4,
   "metadata": {
    "scrolled": false
   },
   "outputs": [
    {
     "data": {
      "text/html": [
       "<div>\n",
       "<style scoped>\n",
       "    .dataframe tbody tr th:only-of-type {\n",
       "        vertical-align: middle;\n",
       "    }\n",
       "\n",
       "    .dataframe tbody tr th {\n",
       "        vertical-align: top;\n",
       "    }\n",
       "\n",
       "    .dataframe thead th {\n",
       "        text-align: right;\n",
       "    }\n",
       "</style>\n",
       "<table border=\"1\" class=\"dataframe\">\n",
       "  <thead>\n",
       "    <tr style=\"text-align: right;\">\n",
       "      <th></th>\n",
       "      <th>Departamento y Municipio de Ejecución</th>\n",
       "      <th>Tipo de Contrato</th>\n",
       "      <th>Cuantía a Contratar</th>\n",
       "      <th>Cuantía Definitiva del Contrato</th>\n",
       "      <th>Plazo de Ejecución del Contrato</th>\n",
       "      <th>Segmento</th>\n",
       "      <th>Estado del Contrato</th>\n",
       "      <th>Estado del Proceso</th>\n",
       "      <th>Fecha de Inicio de Ejecución del Contrato</th>\n",
       "      <th>Fecha de Terminación del Contrato</th>\n",
       "      <th>Fecha Terminación Anormal Después de Convocado</th>\n",
       "      <th>Liquidación de Contrato</th>\n",
       "      <th>Fecha de Liquidación del Contrato</th>\n",
       "      <th>Tipo de Terminación del Contrato</th>\n",
       "      <th>Adición al contrato</th>\n",
       "    </tr>\n",
       "  </thead>\n",
       "  <tbody>\n",
       "    <tr>\n",
       "      <th>0</th>\n",
       "      <td>antioquia, medellín</td>\n",
       "      <td>Prestación de Servicios</td>\n",
       "      <td>1.863179e+08</td>\n",
       "      <td>1.863179e+08</td>\n",
       "      <td>90.0</td>\n",
       "      <td>[80] Servicios de Gestion, Servicios Profesion...</td>\n",
       "      <td>Liquidado</td>\n",
       "      <td>Liquidado</td>\n",
       "      <td>2008-10-03</td>\n",
       "      <td>NaN</td>\n",
       "      <td>NaN</td>\n",
       "      <td>2010-11-09</td>\n",
       "      <td>2009-11-03</td>\n",
       "      <td>Normal</td>\n",
       "      <td>NaN</td>\n",
       "    </tr>\n",
       "    <tr>\n",
       "      <th>1</th>\n",
       "      <td>cundinamarca, ricaurte</td>\n",
       "      <td>Prestación de Servicios</td>\n",
       "      <td>1.500000e+07</td>\n",
       "      <td>1.500000e+07</td>\n",
       "      <td>180.0</td>\n",
       "      <td>[91] Servicios Personales y Domésticos</td>\n",
       "      <td>Liquidado</td>\n",
       "      <td>Liquidado</td>\n",
       "      <td>2010-01-28</td>\n",
       "      <td>NaN</td>\n",
       "      <td>NaN</td>\n",
       "      <td>2010-08-09</td>\n",
       "      <td>2010-07-30</td>\n",
       "      <td>Normal</td>\n",
       "      <td>NaN</td>\n",
       "    </tr>\n",
       "    <tr>\n",
       "      <th>2</th>\n",
       "      <td>sucre, majagual, san onofre, san benito abad</td>\n",
       "      <td>Obra</td>\n",
       "      <td>4.990337e+09</td>\n",
       "      <td>4.990337e+09</td>\n",
       "      <td>240.0</td>\n",
       "      <td>[72] Servicios de Edificación, Construcción de...</td>\n",
       "      <td>Celebrado</td>\n",
       "      <td>Celebrado</td>\n",
       "      <td>2014-06-13</td>\n",
       "      <td>NaN</td>\n",
       "      <td>NaN</td>\n",
       "      <td>NaN</td>\n",
       "      <td>NaN</td>\n",
       "      <td>NaN</td>\n",
       "      <td>2015-09-14</td>\n",
       "    </tr>\n",
       "    <tr>\n",
       "      <th>3</th>\n",
       "      <td>caldas, manzanares</td>\n",
       "      <td>Prestación de Servicios</td>\n",
       "      <td>2.800000e+07</td>\n",
       "      <td>2.800000e+06</td>\n",
       "      <td>60.0</td>\n",
       "      <td>[85] Servicios de Salud</td>\n",
       "      <td>Liquidado</td>\n",
       "      <td>Liquidado</td>\n",
       "      <td>2014-05-01</td>\n",
       "      <td>2014-06-30</td>\n",
       "      <td>NaN</td>\n",
       "      <td>2014-11-13</td>\n",
       "      <td>2014-08-30</td>\n",
       "      <td>Normal</td>\n",
       "      <td>NaN</td>\n",
       "    </tr>\n",
       "    <tr>\n",
       "      <th>4</th>\n",
       "      <td>cundinamarca, tolemaida</td>\n",
       "      <td>Suministro</td>\n",
       "      <td>3.600000e+07</td>\n",
       "      <td>3.600000e+07</td>\n",
       "      <td>30.0</td>\n",
       "      <td>[72] Servicios de Edificación, Construcción de...</td>\n",
       "      <td>Celebrado</td>\n",
       "      <td>Celebrado</td>\n",
       "      <td>2012-09-21</td>\n",
       "      <td>NaN</td>\n",
       "      <td>NaN</td>\n",
       "      <td>NaN</td>\n",
       "      <td>NaN</td>\n",
       "      <td>NaN</td>\n",
       "      <td>NaN</td>\n",
       "    </tr>\n",
       "  </tbody>\n",
       "</table>\n",
       "</div>"
      ],
      "text/plain": [
       "          Departamento y Municipio de Ejecución         Tipo de Contrato  \\\n",
       "0                           antioquia, medellín  Prestación de Servicios   \n",
       "1                        cundinamarca, ricaurte  Prestación de Servicios   \n",
       "2  sucre, majagual, san onofre, san benito abad                     Obra   \n",
       "3                            caldas, manzanares  Prestación de Servicios   \n",
       "4                       cundinamarca, tolemaida               Suministro   \n",
       "\n",
       "   Cuantía a Contratar  Cuantía Definitiva del Contrato  \\\n",
       "0         1.863179e+08                     1.863179e+08   \n",
       "1         1.500000e+07                     1.500000e+07   \n",
       "2         4.990337e+09                     4.990337e+09   \n",
       "3         2.800000e+07                     2.800000e+06   \n",
       "4         3.600000e+07                     3.600000e+07   \n",
       "\n",
       "   Plazo de Ejecución del Contrato  \\\n",
       "0                             90.0   \n",
       "1                            180.0   \n",
       "2                            240.0   \n",
       "3                             60.0   \n",
       "4                             30.0   \n",
       "\n",
       "                                            Segmento Estado del Contrato  \\\n",
       "0  [80] Servicios de Gestion, Servicios Profesion...           Liquidado   \n",
       "1             [91] Servicios Personales y Domésticos           Liquidado   \n",
       "2  [72] Servicios de Edificación, Construcción de...           Celebrado   \n",
       "3                            [85] Servicios de Salud           Liquidado   \n",
       "4  [72] Servicios de Edificación, Construcción de...           Celebrado   \n",
       "\n",
       "  Estado del Proceso Fecha de Inicio de Ejecución del Contrato  \\\n",
       "0          Liquidado                                2008-10-03   \n",
       "1          Liquidado                                2010-01-28   \n",
       "2          Celebrado                                2014-06-13   \n",
       "3          Liquidado                                2014-05-01   \n",
       "4          Celebrado                                2012-09-21   \n",
       "\n",
       "  Fecha de Terminación del Contrato  \\\n",
       "0                               NaN   \n",
       "1                               NaN   \n",
       "2                               NaN   \n",
       "3                        2014-06-30   \n",
       "4                               NaN   \n",
       "\n",
       "  Fecha Terminación Anormal Después de Convocado Liquidación de Contrato  \\\n",
       "0                                            NaN              2010-11-09   \n",
       "1                                            NaN              2010-08-09   \n",
       "2                                            NaN                     NaN   \n",
       "3                                            NaN              2014-11-13   \n",
       "4                                            NaN                     NaN   \n",
       "\n",
       "  Fecha de Liquidación del Contrato Tipo de Terminación del Contrato  \\\n",
       "0                        2009-11-03                           Normal   \n",
       "1                        2010-07-30                           Normal   \n",
       "2                               NaN                              NaN   \n",
       "3                        2014-08-30                           Normal   \n",
       "4                               NaN                              NaN   \n",
       "\n",
       "  Adición al contrato  \n",
       "0                 NaN  \n",
       "1                 NaN  \n",
       "2          2015-09-14  \n",
       "3                 NaN  \n",
       "4                 NaN  "
      ]
     },
     "execution_count": 4,
     "metadata": {},
     "output_type": "execute_result"
    }
   ],
   "source": [
    "ct_data_res = ct_data.loc[:,\n",
    "    (\n",
    "        'Departamento y Municipio de Ejecución',\n",
    "        'Tipo de Contrato',\n",
    "        'Cuantía a Contratar',\n",
    "        'Cuantía Definitiva del Contrato',\n",
    "        'Plazo de Ejecución del Contrato',\n",
    "        'Segmento',\n",
    "        'Estado del Contrato',\n",
    "        'Estado del Proceso',\n",
    "        'Fecha de Inicio de Ejecución del Contrato',\n",
    "        'Fecha de Terminación del Contrato',\n",
    "        'Fecha Terminación Anormal Después de Convocado',\n",
    "        'Liquidación de Contrato',\n",
    "        'Fecha de Liquidación del Contrato',\n",
    "        'Tipo de Terminación del Contrato',\n",
    "        'Adición al contrato'\n",
    "    )\n",
    "]\n",
    "ct_data_res.head()"
   ]
  },
  {
   "cell_type": "code",
   "execution_count": 5,
   "metadata": {
    "scrolled": true
   },
   "outputs": [
    {
     "data": {
      "text/plain": [
       "count    9.990000e+02\n",
       "mean     2.646906e+08\n",
       "std      3.966758e+09\n",
       "min      0.000000e+00\n",
       "25%      4.000000e+06\n",
       "50%      1.384181e+07\n",
       "75%      4.294708e+07\n",
       "max      1.233131e+11\n",
       "Name: Cuantía a Contratar, dtype: float64"
      ]
     },
     "execution_count": 5,
     "metadata": {},
     "output_type": "execute_result"
    }
   ],
   "source": [
    "ct_data['Cuantía a Contratar'].describe()"
   ]
  },
  {
   "cell_type": "code",
   "execution_count": 6,
   "metadata": {},
   "outputs": [
    {
     "data": {
      "text/plain": [
       "count                         999\n",
       "unique                         10\n",
       "top       Prestación de Servicios\n",
       "freq                          475\n",
       "Name: Tipo de Contrato, dtype: object"
      ]
     },
     "execution_count": 6,
     "metadata": {},
     "output_type": "execute_result"
    }
   ],
   "source": [
    "ct_data_res['Tipo de Contrato'].describe()"
   ]
  },
  {
   "cell_type": "code",
   "execution_count": 7,
   "metadata": {
    "scrolled": false
   },
   "outputs": [
    {
     "name": "stdout",
     "output_type": "stream",
     "text": [
      "Index(['Prestación de Servicios', 'Suministro', 'Obra', 'Compraventa',\n",
      "       'Otro Tipo de Contrato', 'Arrendamiento', 'Consultoría',\n",
      "       'Interventoría', 'Comodato', 'Acuerdo Marco'],\n",
      "      dtype='object')\n"
     ]
    }
   ],
   "source": [
    "ct_types = ct_data_res['Tipo de Contrato'].value_counts()\n",
    "print(ct_types.index)"
   ]
  },
  {
   "cell_type": "code",
   "execution_count": 18,
   "metadata": {},
   "outputs": [
    {
     "data": {
      "image/png": "[encoded data removed]",
      "text/plain": [
       "<Figure size 432x288 with 1 Axes>"
      ]
     },
     "metadata": {
      "needs_background": "light"
     },
     "output_type": "display_data"
    }
   ],
   "source": [
    "ct_types_X = ct_types.index\n",
    "ct_types_y = ct_types\n",
    "\n",
    "plt.bar(ct_types_X,ct_types_y)\n",
    "plt.xticks(rotation=90)\n",
    "plt.show()"
   ]
  },
  {
   "cell_type": "code",
   "execution_count": 9,
   "metadata": {},
   "outputs": [
    {
     "data": {
      "text/plain": [
       "count                                                   999\n",
       "unique                                                   50\n",
       "top       [72] Servicios de Edificación, Construcción de...\n",
       "freq                                                    124\n",
       "Name: Segmento, dtype: object"
      ]
     },
     "execution_count": 9,
     "metadata": {},
     "output_type": "execute_result"
    }
   ],
   "source": [
    "ct_data['Segmento'].describe()"
   ]
  },
  {
   "cell_type": "code",
   "execution_count": 10,
   "metadata": {},
   "outputs": [
    {
     "data": {
      "text/plain": [
       "count     835.000000\n",
       "mean      145.473054\n",
       "std       386.138480\n",
       "min         0.000000\n",
       "25%        23.000000\n",
       "50%        87.000000\n",
       "75%       185.000000\n",
       "max      9450.000000\n",
       "Name: Plazo de Ejecución del Contrato, dtype: float64"
      ]
     },
     "execution_count": 10,
     "metadata": {},
     "output_type": "execute_result"
    }
   ],
   "source": [
    "ct_data['Plazo de Ejecución del Contrato'].describe()"
   ]
  },
  {
   "cell_type": "code",
   "execution_count": 11,
   "metadata": {},
   "outputs": [
    {
     "data": {
      "text/plain": [
       "30.0     109\n",
       "180.0     55\n",
       "90.0      47\n",
       "60.0      46\n",
       "120.0     40\n",
       "5.0       36\n",
       "15.0      33\n",
       "150.0     31\n",
       "240.0     28\n",
       "3.0       22\n",
       "10.0      21\n",
       "20.0      21\n",
       "210.0     20\n",
       "300.0     20\n",
       "360.0     20\n",
       "270.0     19\n",
       "8.0       18\n",
       "1.0       15\n",
       "330.0     14\n",
       "2.0       14\n",
       "45.0      11\n",
       "6.0        7\n",
       "4.0        5\n",
       "75.0       4\n",
       "11.0       3\n",
       "47.0       3\n",
       "255.0      3\n",
       "320.0      3\n",
       "33.0       3\n",
       "103.0      3\n",
       "        ... \n",
       "119.0      1\n",
       "945.0      1\n",
       "670.0      1\n",
       "292.0      1\n",
       "50.0       1\n",
       "263.0      1\n",
       "80.0       1\n",
       "342.0      1\n",
       "26.0       1\n",
       "382.0      1\n",
       "570.0      1\n",
       "25.0       1\n",
       "208.0      1\n",
       "231.0      1\n",
       "600.0      1\n",
       "355.0      1\n",
       "67.0       1\n",
       "108.0      1\n",
       "110.0      1\n",
       "58.0       1\n",
       "96.0       1\n",
       "284.0      1\n",
       "12.0       1\n",
       "306.0      1\n",
       "7.0        1\n",
       "212.0      1\n",
       "296.0      1\n",
       "70.0       1\n",
       "52.0       1\n",
       "289.0      1\n",
       "Name: Plazo de Ejecución del Contrato, Length: 158, dtype: int64"
      ]
     },
     "execution_count": 11,
     "metadata": {},
     "output_type": "execute_result"
    }
   ],
   "source": [
    "ct_data['Plazo de Ejecución del Contrato'].value_counts()"
   ]
  },
  {
   "cell_type": "code",
   "execution_count": 12,
   "metadata": {},
   "outputs": [
    {
     "name": "stdout",
     "output_type": "stream",
     "text": [
      "0                             antioquia, medellín\n",
      "1                          cundinamarca, ricaurte\n",
      "2    sucre, majagual, san onofre, san benito abad\n",
      "3                              caldas, manzanares\n",
      "4                         cundinamarca, tolemaida\n",
      "Name: Departamento y Municipio de Ejecución, dtype: object\n"
     ]
    }
   ],
   "source": [
    "ct_data_st = ct_data['Departamento y Municipio de Ejecución']\n",
    "print(ct_data_st.head())"
   ]
  },
  {
   "cell_type": "code",
   "execution_count": 13,
   "metadata": {},
   "outputs": [
    {
     "data": {
      "text/plain": [
       "count                          999\n",
       "unique                         419\n",
       "top       bogotá d.c., bogotá d.c.\n",
       "freq                           157\n",
       "Name: Departamento y Municipio de Ejecución, dtype: object"
      ]
     },
     "execution_count": 13,
     "metadata": {},
     "output_type": "execute_result"
    }
   ],
   "source": [
    "ct_data['Departamento y Municipio de Ejecución'].describe()"
   ]
  },
  {
   "cell_type": "code",
   "execution_count": 20,
   "metadata": {},
   "outputs": [
    {
     "name": "stdout",
     "output_type": "stream",
     "text": [
      "Index(['bogotá d.c., bogotá d.c.', 'antioquia, medellín',\n",
      "       'valle del cauca, cali', 'meta, villavicencio',\n",
      "       'santander, bucaramanga', 'bolívar, cartagena', 'tolima, ibagué',\n",
      "       'nariño, pasto', 'atlántico, barranquilla', 'cauca, popayán'],\n",
      "      dtype='object')\n"
     ]
    }
   ],
   "source": [
    "ct_state = ct_data_res['Departamento y Municipio de Ejecución'].value_counts()\n",
    "print(ct_state.index[:10])"
   ]
  },
  {
   "cell_type": "code",
   "execution_count": 23,
   "metadata": {},
   "outputs": [
    {
     "data": {
      "image/png": "[encoded data removed]",
      "text/plain": [
       "<Figure size 432x288 with 1 Axes>"
      ]
     },
     "metadata": {
      "needs_background": "light"
     },
     "output_type": "display_data"
    }
   ],
   "source": [
    "ct_state_x = ct_state.index[:25]\n",
    "ct_state_y = ct_state[:25]\n",
    "\n",
    "plt.bar(ct_state_x,ct_state_y)\n",
    "plt.xticks(rotation=90)\n",
    "plt.show()"
   ]
  },
  {
   "cell_type": "code",
   "execution_count": 14,
   "metadata": {},
   "outputs": [
    {
     "data": {
      "text/html": [
       "<div>\n",
       "<style scoped>\n",
       "    .dataframe tbody tr th:only-of-type {\n",
       "        vertical-align: middle;\n",
       "    }\n",
       "\n",
       "    .dataframe tbody tr th {\n",
       "        vertical-align: top;\n",
       "    }\n",
       "\n",
       "    .dataframe thead th {\n",
       "        text-align: right;\n",
       "    }\n",
       "</style>\n",
       "<table border=\"1\" class=\"dataframe\">\n",
       "  <thead>\n",
       "    <tr style=\"text-align: right;\">\n",
       "      <th></th>\n",
       "      <th>Departamento y Municipio de Ejecución</th>\n",
       "      <th>Tipo de Contrato</th>\n",
       "      <th>Cuantía a Contratar</th>\n",
       "      <th>Cuantía Definitiva del Contrato</th>\n",
       "      <th>Plazo de Ejecución del Contrato</th>\n",
       "      <th>Segmento</th>\n",
       "      <th>Estado del Contrato</th>\n",
       "      <th>Estado del Proceso</th>\n",
       "      <th>Fecha de Inicio de Ejecución del Contrato</th>\n",
       "      <th>Fecha de Terminación del Contrato</th>\n",
       "      <th>Fecha Terminación Anormal Después de Convocado</th>\n",
       "      <th>Liquidación de Contrato</th>\n",
       "      <th>Fecha de Liquidación del Contrato</th>\n",
       "      <th>Tipo de Terminación del Contrato</th>\n",
       "      <th>Adición al contrato</th>\n",
       "      <th>Duración real del contrato (dias)</th>\n",
       "    </tr>\n",
       "  </thead>\n",
       "  <tbody>\n",
       "    <tr>\n",
       "      <th>0</th>\n",
       "      <td>antioquia, medellín</td>\n",
       "      <td>Prestación de Servicios</td>\n",
       "      <td>1.863179e+08</td>\n",
       "      <td>1.863179e+08</td>\n",
       "      <td>90.0</td>\n",
       "      <td>[80] Servicios de Gestion, Servicios Profesion...</td>\n",
       "      <td>Liquidado</td>\n",
       "      <td>Liquidado</td>\n",
       "      <td>2008-10-03</td>\n",
       "      <td>NaN</td>\n",
       "      <td>NaN</td>\n",
       "      <td>2010-11-09</td>\n",
       "      <td>2009-11-03</td>\n",
       "      <td>Normal</td>\n",
       "      <td>NaN</td>\n",
       "      <td>396.0</td>\n",
       "    </tr>\n",
       "    <tr>\n",
       "      <th>1</th>\n",
       "      <td>cundinamarca, ricaurte</td>\n",
       "      <td>Prestación de Servicios</td>\n",
       "      <td>1.500000e+07</td>\n",
       "      <td>1.500000e+07</td>\n",
       "      <td>180.0</td>\n",
       "      <td>[91] Servicios Personales y Domésticos</td>\n",
       "      <td>Liquidado</td>\n",
       "      <td>Liquidado</td>\n",
       "      <td>2010-01-28</td>\n",
       "      <td>NaN</td>\n",
       "      <td>NaN</td>\n",
       "      <td>2010-08-09</td>\n",
       "      <td>2010-07-30</td>\n",
       "      <td>Normal</td>\n",
       "      <td>NaN</td>\n",
       "      <td>183.0</td>\n",
       "    </tr>\n",
       "    <tr>\n",
       "      <th>2</th>\n",
       "      <td>sucre, majagual, san onofre, san benito abad</td>\n",
       "      <td>Obra</td>\n",
       "      <td>4.990337e+09</td>\n",
       "      <td>4.990337e+09</td>\n",
       "      <td>240.0</td>\n",
       "      <td>[72] Servicios de Edificación, Construcción de...</td>\n",
       "      <td>Celebrado</td>\n",
       "      <td>Celebrado</td>\n",
       "      <td>2014-06-13</td>\n",
       "      <td>NaN</td>\n",
       "      <td>NaN</td>\n",
       "      <td>NaN</td>\n",
       "      <td>NaT</td>\n",
       "      <td>NaN</td>\n",
       "      <td>2015-09-14</td>\n",
       "      <td>NaN</td>\n",
       "    </tr>\n",
       "    <tr>\n",
       "      <th>3</th>\n",
       "      <td>caldas, manzanares</td>\n",
       "      <td>Prestación de Servicios</td>\n",
       "      <td>2.800000e+07</td>\n",
       "      <td>2.800000e+06</td>\n",
       "      <td>60.0</td>\n",
       "      <td>[85] Servicios de Salud</td>\n",
       "      <td>Liquidado</td>\n",
       "      <td>Liquidado</td>\n",
       "      <td>2014-05-01</td>\n",
       "      <td>2014-06-30</td>\n",
       "      <td>NaN</td>\n",
       "      <td>2014-11-13</td>\n",
       "      <td>2014-08-30</td>\n",
       "      <td>Normal</td>\n",
       "      <td>NaN</td>\n",
       "      <td>121.0</td>\n",
       "    </tr>\n",
       "    <tr>\n",
       "      <th>4</th>\n",
       "      <td>cundinamarca, tolemaida</td>\n",
       "      <td>Suministro</td>\n",
       "      <td>3.600000e+07</td>\n",
       "      <td>3.600000e+07</td>\n",
       "      <td>30.0</td>\n",
       "      <td>[72] Servicios de Edificación, Construcción de...</td>\n",
       "      <td>Celebrado</td>\n",
       "      <td>Celebrado</td>\n",
       "      <td>2012-09-21</td>\n",
       "      <td>NaN</td>\n",
       "      <td>NaN</td>\n",
       "      <td>NaN</td>\n",
       "      <td>NaT</td>\n",
       "      <td>NaN</td>\n",
       "      <td>NaN</td>\n",
       "      <td>NaN</td>\n",
       "    </tr>\n",
       "  </tbody>\n",
       "</table>\n",
       "</div>"
      ],
      "text/plain": [
       "          Departamento y Municipio de Ejecución         Tipo de Contrato  \\\n",
       "0                           antioquia, medellín  Prestación de Servicios   \n",
       "1                        cundinamarca, ricaurte  Prestación de Servicios   \n",
       "2  sucre, majagual, san onofre, san benito abad                     Obra   \n",
       "3                            caldas, manzanares  Prestación de Servicios   \n",
       "4                       cundinamarca, tolemaida               Suministro   \n",
       "\n",
       "   Cuantía a Contratar  Cuantía Definitiva del Contrato  \\\n",
       "0         1.863179e+08                     1.863179e+08   \n",
       "1         1.500000e+07                     1.500000e+07   \n",
       "2         4.990337e+09                     4.990337e+09   \n",
       "3         2.800000e+07                     2.800000e+06   \n",
       "4         3.600000e+07                     3.600000e+07   \n",
       "\n",
       "   Plazo de Ejecución del Contrato  \\\n",
       "0                             90.0   \n",
       "1                            180.0   \n",
       "2                            240.0   \n",
       "3                             60.0   \n",
       "4                             30.0   \n",
       "\n",
       "                                            Segmento Estado del Contrato  \\\n",
       "0  [80] Servicios de Gestion, Servicios Profesion...           Liquidado   \n",
       "1             [91] Servicios Personales y Domésticos           Liquidado   \n",
       "2  [72] Servicios de Edificación, Construcción de...           Celebrado   \n",
       "3                            [85] Servicios de Salud           Liquidado   \n",
       "4  [72] Servicios de Edificación, Construcción de...           Celebrado   \n",
       "\n",
       "  Estado del Proceso Fecha de Inicio de Ejecución del Contrato  \\\n",
       "0          Liquidado                                2008-10-03   \n",
       "1          Liquidado                                2010-01-28   \n",
       "2          Celebrado                                2014-06-13   \n",
       "3          Liquidado                                2014-05-01   \n",
       "4          Celebrado                                2012-09-21   \n",
       "\n",
       "  Fecha de Terminación del Contrato  \\\n",
       "0                               NaN   \n",
       "1                               NaN   \n",
       "2                               NaN   \n",
       "3                        2014-06-30   \n",
       "4                               NaN   \n",
       "\n",
       "  Fecha Terminación Anormal Después de Convocado Liquidación de Contrato  \\\n",
       "0                                            NaN              2010-11-09   \n",
       "1                                            NaN              2010-08-09   \n",
       "2                                            NaN                     NaN   \n",
       "3                                            NaN              2014-11-13   \n",
       "4                                            NaN                     NaN   \n",
       "\n",
       "  Fecha de Liquidación del Contrato Tipo de Terminación del Contrato  \\\n",
       "0                        2009-11-03                           Normal   \n",
       "1                        2010-07-30                           Normal   \n",
       "2                               NaT                              NaN   \n",
       "3                        2014-08-30                           Normal   \n",
       "4                               NaT                              NaN   \n",
       "\n",
       "  Adición al contrato  Duración real del contrato (dias)  \n",
       "0                 NaN                              396.0  \n",
       "1                 NaN                              183.0  \n",
       "2          2015-09-14                                NaN  \n",
       "3                 NaN                              121.0  \n",
       "4                 NaN                                NaN  "
      ]
     },
     "execution_count": 14,
     "metadata": {},
     "output_type": "execute_result"
    }
   ],
   "source": [
    "ct_data_res['Fecha de Inicio de Ejecución del Contrato'] = pd.to_datetime(ct_data_res['Fecha de Inicio de Ejecución del Contrato'])\n",
    "ct_data_res['Fecha de Liquidación del Contrato'] = pd.to_datetime(ct_data_res['Fecha de Liquidación del Contrato'])\n",
    "ct_data_res['Duración real del contrato (dias)'] = ct_data_res['Fecha de Liquidación del Contrato'].sub(ct_data_res['Fecha de Inicio de Ejecución del Contrato'], axis=0)\n",
    "ct_data_res['Duración real del contrato (dias)'] = ct_data_res['Duración real del contrato (dias)'] / np.timedelta64(1, 'D')\n",
    "ct_data_res.head()"
   ]
  },
  {
   "cell_type": "code",
   "execution_count": 25,
   "metadata": {},
   "outputs": [
    {
     "data": {
      "image/png": "[encoded data removed]",
      "text/plain": [
       "<Figure size 432x288 with 1 Axes>"
      ]
     },
     "metadata": {
      "needs_background": "light"
     },
     "output_type": "display_data"
    }
   ],
   "source": [
    "fig, axis = plt.subplots()\n",
    "# Grid lines, Xticks, Xlabel, Ylabel\n",
    "\n",
    "axis.yaxis.grid(True)\n",
    "axis.set_title('Plazo de ejecución vs Ejecución real (días)',fontsize=10)\n",
    "axis.set_xlabel('Plazo de Ejecución del Contrato',fontsize=10)\n",
    "axis.set_ylabel('Duración real del contrato (dias)',fontsize=10)\n",
    "\n",
    "X = ct_data_res['Plazo de Ejecución del Contrato']\n",
    "Y = ct_data_res['Duración real del contrato (dias)']\n",
    "\n",
    "axis.scatter(X, Y)\n",
    "plt.show()"
   ]
  }
 ],
 "metadata": {
  "kernelspec": {
   "display_name": "Python 3",
   "language": "python",
   "name": "python3"
  },
  "language_info": {
   "codemirror_mode": {
    "name": "ipython",
    "version": 3
   },
   "file_extension": ".py",
   "mimetype": "text/x-python",
   "name": "python",
   "nbconvert_exporter": "python",
   "pygments_lexer": "ipython3",
   "version": "3.7.1"
  }
 },
 "nbformat": 4,
 "nbformat_minor": 2
}
